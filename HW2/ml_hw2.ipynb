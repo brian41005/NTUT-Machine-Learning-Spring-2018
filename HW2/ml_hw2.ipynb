{
 "cells": [
  {
   "cell_type": "markdown",
   "metadata": {},
   "source": [
    "# 103590450 四資四 馬茂源"
   ]
  },
  {
   "cell_type": "code",
   "execution_count": 1,
   "metadata": {
    "ExecuteTime": {
     "end_time": "2018-04-10T04:57:07.330151Z",
     "start_time": "2018-04-10T04:57:06.554729Z"
    }
   },
   "outputs": [],
   "source": [
    "from sklearn.metrics import accuracy_score\n",
    "from sklearn.datasets import load_iris\n",
    "import numpy as np\n",
    "import matplotlib.pyplot as plt\n",
    "import operator\n",
    "import pandas as pd \n",
    "import itertools"
   ]
  },
  {
   "cell_type": "code",
   "execution_count": 2,
   "metadata": {
    "ExecuteTime": {
     "end_time": "2018-04-10T04:57:07.338179Z",
     "start_time": "2018-04-10T04:57:07.332128Z"
    }
   },
   "outputs": [],
   "source": [
    "class MyKNeighborsClassifier:\n",
    "    \n",
    "    def __init__(self, n_neighbors=3, **kwargs):\n",
    "        self._k = n_neighbors\n",
    "        self._X = self._y = None\n",
    "        self.set_params(**kwargs)\n",
    "            \n",
    "    def get_params(self, deep=True):\n",
    "        # suppose this estimator has parameters \"alpha\" and \"recursive\"\n",
    "        return self.__dict__\n",
    "\n",
    "    def set_params(self, **parameters):\n",
    "        for parameter, value in parameters.items():\n",
    "            setattr(self, parameter, value)\n",
    "        return self\n",
    "    \n",
    "    def fit(self, X, y):\n",
    "        self._X = X\n",
    "        self._y = y\n",
    "    \n",
    "    def _predict(self, x):\n",
    "        distances = np.apply_along_axis(lambda x1: np.linalg.norm(x-x1), \n",
    "                                        1, self._X)\n",
    "        X_candidates = np.argsort(distances)[:self._k]\n",
    "        y_candidates = self._y[X_candidates]\n",
    "        return np.argmax(np.bincount(y_candidates.astype('int64')))\n",
    "    \n",
    "    def score(self, X, y_true):\n",
    "        return accuracy_score(y_true, self.predict(X))\n",
    "    \n",
    "    def predict(self, X):\n",
    "        return np.apply_along_axis(lambda x: self._predict(x), 1, X)"
   ]
  },
  {
   "cell_type": "code",
   "execution_count": 3,
   "metadata": {
    "ExecuteTime": {
     "end_time": "2018-04-10T04:57:07.367578Z",
     "start_time": "2018-04-10T04:57:07.341429Z"
    }
   },
   "outputs": [
    {
     "data": {
      "text/html": [
       "<div>\n",
       "<style scoped>\n",
       "    .dataframe tbody tr th:only-of-type {\n",
       "        vertical-align: middle;\n",
       "    }\n",
       "\n",
       "    .dataframe tbody tr th {\n",
       "        vertical-align: top;\n",
       "    }\n",
       "\n",
       "    .dataframe thead th {\n",
       "        text-align: right;\n",
       "    }\n",
       "</style>\n",
       "<table border=\"1\" class=\"dataframe\">\n",
       "  <thead>\n",
       "    <tr style=\"text-align: right;\">\n",
       "      <th></th>\n",
       "      <th>sepal length (cm)</th>\n",
       "      <th>sepal width (cm)</th>\n",
       "      <th>petal length (cm)</th>\n",
       "      <th>petal width (cm)</th>\n",
       "      <th>target</th>\n",
       "    </tr>\n",
       "  </thead>\n",
       "  <tbody>\n",
       "    <tr>\n",
       "      <th>0</th>\n",
       "      <td>5.1</td>\n",
       "      <td>3.5</td>\n",
       "      <td>1.4</td>\n",
       "      <td>0.2</td>\n",
       "      <td>0.0</td>\n",
       "    </tr>\n",
       "    <tr>\n",
       "      <th>1</th>\n",
       "      <td>4.9</td>\n",
       "      <td>3.0</td>\n",
       "      <td>1.4</td>\n",
       "      <td>0.2</td>\n",
       "      <td>0.0</td>\n",
       "    </tr>\n",
       "    <tr>\n",
       "      <th>2</th>\n",
       "      <td>4.7</td>\n",
       "      <td>3.2</td>\n",
       "      <td>1.3</td>\n",
       "      <td>0.2</td>\n",
       "      <td>0.0</td>\n",
       "    </tr>\n",
       "    <tr>\n",
       "      <th>3</th>\n",
       "      <td>4.6</td>\n",
       "      <td>3.1</td>\n",
       "      <td>1.5</td>\n",
       "      <td>0.2</td>\n",
       "      <td>0.0</td>\n",
       "    </tr>\n",
       "    <tr>\n",
       "      <th>4</th>\n",
       "      <td>5.0</td>\n",
       "      <td>3.6</td>\n",
       "      <td>1.4</td>\n",
       "      <td>0.2</td>\n",
       "      <td>0.0</td>\n",
       "    </tr>\n",
       "  </tbody>\n",
       "</table>\n",
       "</div>"
      ],
      "text/plain": [
       "   sepal length (cm)  sepal width (cm)  petal length (cm)  petal width (cm)  \\\n",
       "0                5.1               3.5                1.4               0.2   \n",
       "1                4.9               3.0                1.4               0.2   \n",
       "2                4.7               3.2                1.3               0.2   \n",
       "3                4.6               3.1                1.5               0.2   \n",
       "4                5.0               3.6                1.4               0.2   \n",
       "\n",
       "   target  \n",
       "0     0.0  \n",
       "1     0.0  \n",
       "2     0.0  \n",
       "3     0.0  \n",
       "4     0.0  "
      ]
     },
     "execution_count": 3,
     "metadata": {},
     "output_type": "execute_result"
    }
   ],
   "source": [
    "iris = load_iris()\n",
    "feature_names = iris.feature_names.copy()\n",
    "iris = pd.DataFrame(data=np.column_stack([iris.data, iris.target]), \n",
    "                    columns=iris.feature_names+['target'])\n",
    "iris.head()"
   ]
  },
  {
   "cell_type": "markdown",
   "metadata": {},
   "source": [
    "## 1\n",
    "\n",
    "In the lecture, we mentioned that the term λ ∑ 𝑤𝑖2𝑖 is a regularization term.\n",
    "\n",
    "i. Use your own words to explain why it is so.\n",
    "\n",
    "ii. If we implement two regression programs, one using λ ∑ 𝑤𝑖2𝑖 and theother one using λ ∑ 𝑤𝑖10𝑖, which one do you expect has lower bias? How about variance? Why? Assuming that we use the same λ for both programs.\n"
   ]
  },
  {
   "cell_type": "markdown",
   "metadata": {},
   "source": [
    "針對第一小題，L2正規化的作用在於，在一個`具有overfitting能力的model`上我們在loss func後方追加L2 term，因此這個loss func在計算loss時不僅取決於每個預測值的誤差的總和(原項)，同時也取決於在λ的比例下w(係數們)的平方和，會這樣做的原因在於一個具有高次項(high polynomial degree)的model，在發生overfitting時高次項係數會開始變大(或者說極端化)，這是Model為了fit所有數值所造成的現象(為了所有point曲線開始扭曲)，扭曲意味著需要高次項的幫助，也就是說overfitting是因為某些係數(通常為高次項)極端化造成的，因此會造成w的平方和變大，變大不是我們想要的現象，就跟誤差一樣，因此我們可以將L2追加在loss func後面一起評估，這就是L2功能。\n",
    "\n",
    "針對第二小題，假設相同λ，10次方和正規化這個應該會比平方和正規化產生更多限制的影響，因此正規化程度嚴重，也就是說model比起L2更不會有overfitting現象，換句話說L2跟L10相比L2的model會比較fit data，因此L10正規化的bias相較L2比較高但var比L2低，最後針對題目回答，L2應該會有比較低的bias。"
   ]
  },
  {
   "cell_type": "markdown",
   "metadata": {},
   "source": [
    "## 2 \n",
    "We mentioned that the covariance matrix may be ill-conditioned. Find the(sample) covariance matrices for the three classes of the Iris dataset and compute the condition numbers for the covariance matrices. For simplicity, use the following as the condition number: κ(A) = |𝜆max/𝜆min|, where 𝜆max and 𝜆min arethe largest and smallest eigenvalues of matrix A."
   ]
  },
  {
   "cell_type": "code",
   "execution_count": 4,
   "metadata": {
    "ExecuteTime": {
     "end_time": "2018-04-10T04:57:07.437097Z",
     "start_time": "2018-04-10T04:57:07.371126Z"
    }
   },
   "outputs": [
    {
     "data": {
      "text/plain": [
       "'class 0'"
      ]
     },
     "metadata": {},
     "output_type": "display_data"
    },
    {
     "data": {
      "text/plain": [
       "'condition number:25.373917566328807'"
      ]
     },
     "metadata": {},
     "output_type": "display_data"
    },
    {
     "data": {
      "text/html": [
       "<div>\n",
       "<style scoped>\n",
       "    .dataframe tbody tr th:only-of-type {\n",
       "        vertical-align: middle;\n",
       "    }\n",
       "\n",
       "    .dataframe tbody tr th {\n",
       "        vertical-align: top;\n",
       "    }\n",
       "\n",
       "    .dataframe thead th {\n",
       "        text-align: right;\n",
       "    }\n",
       "</style>\n",
       "<table border=\"1\" class=\"dataframe\">\n",
       "  <thead>\n",
       "    <tr style=\"text-align: right;\">\n",
       "      <th></th>\n",
       "      <th>sepal length (cm)</th>\n",
       "      <th>sepal width (cm)</th>\n",
       "      <th>petal length (cm)</th>\n",
       "      <th>petal width (cm)</th>\n",
       "    </tr>\n",
       "  </thead>\n",
       "  <tbody>\n",
       "    <tr>\n",
       "      <th>sepal length (cm)</th>\n",
       "      <td>0.121764</td>\n",
       "      <td>0.098292</td>\n",
       "      <td>0.015816</td>\n",
       "      <td>0.010336</td>\n",
       "    </tr>\n",
       "    <tr>\n",
       "      <th>sepal width (cm)</th>\n",
       "      <td>0.098292</td>\n",
       "      <td>0.142276</td>\n",
       "      <td>0.011448</td>\n",
       "      <td>0.011208</td>\n",
       "    </tr>\n",
       "    <tr>\n",
       "      <th>petal length (cm)</th>\n",
       "      <td>0.015816</td>\n",
       "      <td>0.011448</td>\n",
       "      <td>0.029504</td>\n",
       "      <td>0.005584</td>\n",
       "    </tr>\n",
       "    <tr>\n",
       "      <th>petal width (cm)</th>\n",
       "      <td>0.010336</td>\n",
       "      <td>0.011208</td>\n",
       "      <td>0.005584</td>\n",
       "      <td>0.011264</td>\n",
       "    </tr>\n",
       "  </tbody>\n",
       "</table>\n",
       "</div>"
      ],
      "text/plain": [
       "                   sepal length (cm)  sepal width (cm)  petal length (cm)  \\\n",
       "sepal length (cm)           0.121764          0.098292           0.015816   \n",
       "sepal width (cm)            0.098292          0.142276           0.011448   \n",
       "petal length (cm)           0.015816          0.011448           0.029504   \n",
       "petal width (cm)            0.010336          0.011208           0.005584   \n",
       "\n",
       "                   petal width (cm)  \n",
       "sepal length (cm)          0.010336  \n",
       "sepal width (cm)           0.011208  \n",
       "petal length (cm)          0.005584  \n",
       "petal width (cm)           0.011264  "
      ]
     },
     "metadata": {},
     "output_type": "display_data"
    },
    {
     "data": {
      "text/plain": [
       "'class 1'"
      ]
     },
     "metadata": {},
     "output_type": "display_data"
    },
    {
     "data": {
      "text/plain": [
       "'condition number:49.83204972740381'"
      ]
     },
     "metadata": {},
     "output_type": "display_data"
    },
    {
     "data": {
      "text/html": [
       "<div>\n",
       "<style scoped>\n",
       "    .dataframe tbody tr th:only-of-type {\n",
       "        vertical-align: middle;\n",
       "    }\n",
       "\n",
       "    .dataframe tbody tr th {\n",
       "        vertical-align: top;\n",
       "    }\n",
       "\n",
       "    .dataframe thead th {\n",
       "        text-align: right;\n",
       "    }\n",
       "</style>\n",
       "<table border=\"1\" class=\"dataframe\">\n",
       "  <thead>\n",
       "    <tr style=\"text-align: right;\">\n",
       "      <th></th>\n",
       "      <th>sepal length (cm)</th>\n",
       "      <th>sepal width (cm)</th>\n",
       "      <th>petal length (cm)</th>\n",
       "      <th>petal width (cm)</th>\n",
       "    </tr>\n",
       "  </thead>\n",
       "  <tbody>\n",
       "    <tr>\n",
       "      <th>sepal length (cm)</th>\n",
       "      <td>0.261104</td>\n",
       "      <td>0.08348</td>\n",
       "      <td>0.17924</td>\n",
       "      <td>0.054664</td>\n",
       "    </tr>\n",
       "    <tr>\n",
       "      <th>sepal width (cm)</th>\n",
       "      <td>0.083480</td>\n",
       "      <td>0.09650</td>\n",
       "      <td>0.08100</td>\n",
       "      <td>0.040380</td>\n",
       "    </tr>\n",
       "    <tr>\n",
       "      <th>petal length (cm)</th>\n",
       "      <td>0.179240</td>\n",
       "      <td>0.08100</td>\n",
       "      <td>0.21640</td>\n",
       "      <td>0.071640</td>\n",
       "    </tr>\n",
       "    <tr>\n",
       "      <th>petal width (cm)</th>\n",
       "      <td>0.054664</td>\n",
       "      <td>0.04038</td>\n",
       "      <td>0.07164</td>\n",
       "      <td>0.038324</td>\n",
       "    </tr>\n",
       "  </tbody>\n",
       "</table>\n",
       "</div>"
      ],
      "text/plain": [
       "                   sepal length (cm)  sepal width (cm)  petal length (cm)  \\\n",
       "sepal length (cm)           0.261104           0.08348            0.17924   \n",
       "sepal width (cm)            0.083480           0.09650            0.08100   \n",
       "petal length (cm)           0.179240           0.08100            0.21640   \n",
       "petal width (cm)            0.054664           0.04038            0.07164   \n",
       "\n",
       "                   petal width (cm)  \n",
       "sepal length (cm)          0.054664  \n",
       "sepal width (cm)           0.040380  \n",
       "petal length (cm)          0.071640  \n",
       "petal width (cm)           0.038324  "
      ]
     },
     "metadata": {},
     "output_type": "display_data"
    },
    {
     "data": {
      "text/plain": [
       "'class 2'"
      ]
     },
     "metadata": {},
     "output_type": "display_data"
    },
    {
     "data": {
      "text/plain": [
       "'condition number:20.290018691247365'"
      ]
     },
     "metadata": {},
     "output_type": "display_data"
    },
    {
     "data": {
      "text/html": [
       "<div>\n",
       "<style scoped>\n",
       "    .dataframe tbody tr th:only-of-type {\n",
       "        vertical-align: middle;\n",
       "    }\n",
       "\n",
       "    .dataframe tbody tr th {\n",
       "        vertical-align: top;\n",
       "    }\n",
       "\n",
       "    .dataframe thead th {\n",
       "        text-align: right;\n",
       "    }\n",
       "</style>\n",
       "<table border=\"1\" class=\"dataframe\">\n",
       "  <thead>\n",
       "    <tr style=\"text-align: right;\">\n",
       "      <th></th>\n",
       "      <th>sepal length (cm)</th>\n",
       "      <th>sepal width (cm)</th>\n",
       "      <th>petal length (cm)</th>\n",
       "      <th>petal width (cm)</th>\n",
       "    </tr>\n",
       "  </thead>\n",
       "  <tbody>\n",
       "    <tr>\n",
       "      <th>sepal length (cm)</th>\n",
       "      <td>0.396256</td>\n",
       "      <td>0.091888</td>\n",
       "      <td>0.297224</td>\n",
       "      <td>0.048112</td>\n",
       "    </tr>\n",
       "    <tr>\n",
       "      <th>sepal width (cm)</th>\n",
       "      <td>0.091888</td>\n",
       "      <td>0.101924</td>\n",
       "      <td>0.069952</td>\n",
       "      <td>0.046676</td>\n",
       "    </tr>\n",
       "    <tr>\n",
       "      <th>petal length (cm)</th>\n",
       "      <td>0.297224</td>\n",
       "      <td>0.069952</td>\n",
       "      <td>0.298496</td>\n",
       "      <td>0.047848</td>\n",
       "    </tr>\n",
       "    <tr>\n",
       "      <th>petal width (cm)</th>\n",
       "      <td>0.048112</td>\n",
       "      <td>0.046676</td>\n",
       "      <td>0.047848</td>\n",
       "      <td>0.073924</td>\n",
       "    </tr>\n",
       "  </tbody>\n",
       "</table>\n",
       "</div>"
      ],
      "text/plain": [
       "                   sepal length (cm)  sepal width (cm)  petal length (cm)  \\\n",
       "sepal length (cm)           0.396256          0.091888           0.297224   \n",
       "sepal width (cm)            0.091888          0.101924           0.069952   \n",
       "petal length (cm)           0.297224          0.069952           0.298496   \n",
       "petal width (cm)            0.048112          0.046676           0.047848   \n",
       "\n",
       "                   petal width (cm)  \n",
       "sepal length (cm)          0.048112  \n",
       "sepal width (cm)           0.046676  \n",
       "petal length (cm)          0.047848  \n",
       "petal width (cm)           0.073924  "
      ]
     },
     "metadata": {},
     "output_type": "display_data"
    }
   ],
   "source": [
    "for tx in range(3): \n",
    "    targetx = iris.loc[iris.target == tx, feature_names]\n",
    "    targetx = targetx.apply(lambda x: x-x.mean())\n",
    "    cov = [(targetx[f1]*targetx[f2]).mean() \n",
    "           for f1, f2 in itertools.product(feature_names, \n",
    "                                           feature_names)]\n",
    "    cov = np.array(cov).reshape((len(feature_names), \n",
    "                                 len(feature_names)))\n",
    "    eigvals, _ = np.linalg.eig(cov)\n",
    "    display('class %d'%(tx), \n",
    "            'condition number:{}'.format(abs(eigvals.max() / \n",
    "                                             eigvals.min())))\n",
    "    display(pd.DataFrame(data=cov, \n",
    "                         columns=feature_names, \n",
    "                         index=feature_names))"
   ]
  },
  {
   "cell_type": "markdown",
   "metadata": {},
   "source": [
    "## 3\n",
    "In this problem, you are asked to use the Iris dataset to perform PCA dimensionality reduction before classification. Randomly draw 35 samples in each class to find the vectors 𝒘(𝒋) for the largest two principal components. Recall that PCA is unsupervised; therefore, you need to use 35×3 = 105 data points to find the parameters of the PCA. Implement the 3-NN classifier to test the rest 15 samples in each class and record the accuracy. Repeat the drawing and the k-NN classification 10 times and compute the average accuracy and variance. For simplicity, use the Euclidean distance in the k-NN computation.\n"
   ]
  },
  {
   "cell_type": "code",
   "execution_count": 5,
   "metadata": {
    "ExecuteTime": {
     "end_time": "2018-04-10T04:57:07.442935Z",
     "start_time": "2018-04-10T04:57:07.439119Z"
    }
   },
   "outputs": [],
   "source": [
    "def randomly_draw(data):\n",
    "    train = pd.DataFrame()\n",
    "    for i in range(3):\n",
    "        train = train.append(data[data.target == i].sample(35))\n",
    "        \n",
    "    test = data[~(iris.isin(train).all(axis=1))].copy()\n",
    "    return train.as_matrix(), test.as_matrix()"
   ]
  },
  {
   "cell_type": "code",
   "execution_count": 6,
   "metadata": {
    "ExecuteTime": {
     "end_time": "2018-04-10T04:57:07.451283Z",
     "start_time": "2018-04-10T04:57:07.445230Z"
    }
   },
   "outputs": [],
   "source": [
    "def pca(train_X, test_X):\n",
    "    cov = train_X.T.dot(train_X)\n",
    "    eigvalue, loading = np.linalg.eig(cov)\n",
    "    # display(eigvalue, loading)\n",
    "    new_train_X, new_test_X = (train_X.dot(loading[:, :2]), \n",
    "                               test_X.dot(loading[:, :2]))\n",
    "    return new_train_X, new_test_X"
   ]
  },
  {
   "cell_type": "code",
   "execution_count": 7,
   "metadata": {
    "ExecuteTime": {
     "end_time": "2018-04-10T04:57:07.459036Z",
     "start_time": "2018-04-10T04:57:07.456045Z"
    }
   },
   "outputs": [],
   "source": [
    "# train, test = randomly_draw(iris)"
   ]
  },
  {
   "cell_type": "code",
   "execution_count": 8,
   "metadata": {
    "ExecuteTime": {
     "end_time": "2018-04-10T04:57:07.464321Z",
     "start_time": "2018-04-10T04:57:07.461220Z"
    }
   },
   "outputs": [],
   "source": [
    "# train_X, train_y = train[:, :-1], train[:, -1]\n",
    "# test_X, test_y = test[:, :-1], test[:, -1]"
   ]
  },
  {
   "cell_type": "code",
   "execution_count": 9,
   "metadata": {
    "ExecuteTime": {
     "end_time": "2018-04-10T04:57:07.468889Z",
     "start_time": "2018-04-10T04:57:07.466403Z"
    },
    "scrolled": false
   },
   "outputs": [],
   "source": [
    "# new_train_X, new_test_X = pca(train_X, test_X)"
   ]
  },
  {
   "cell_type": "code",
   "execution_count": 10,
   "metadata": {
    "ExecuteTime": {
     "end_time": "2018-04-10T04:57:07.962156Z",
     "start_time": "2018-04-10T04:57:07.471753Z"
    }
   },
   "outputs": [
    {
     "name": "stdout",
     "output_type": "stream",
     "text": [
      "average acc:0.9666666666666666\n",
      "variance of acc:0.0002222222222222214\n"
     ]
    }
   ],
   "source": [
    "acc = []\n",
    "for i in range(10):\n",
    "    train, test = randomly_draw(iris)\n",
    "    train_X, train_y = train[:, :-1], train[:, -1]\n",
    "    test_X, test_y = test[:, :-1], test[:, -1]\n",
    "    train_X, test_X = pca(train_X, test_X)\n",
    "    model = MyKNeighborsClassifier()\n",
    "    model.fit(train_X, train_y)\n",
    "    acc.append(model.score(test_X, test_y))\n",
    "print('average acc:{}'.format(np.mean(acc)))\n",
    "print('variance of acc:{}'.format(np.var(acc)))"
   ]
  },
  {
   "cell_type": "markdown",
   "metadata": {},
   "source": [
    "## 4\n",
    "Following the general steps of problem 3, but use the FA approach for dimensionality reduction. For simplicity, you may assume  = 0 and use the LS solutions."
   ]
  },
  {
   "cell_type": "code",
   "execution_count": 16,
   "metadata": {
    "ExecuteTime": {
     "end_time": "2018-04-10T04:57:14.746572Z",
     "start_time": "2018-04-10T04:57:14.258461Z"
    },
    "scrolled": false
   },
   "outputs": [
    {
     "name": "stdout",
     "output_type": "stream",
     "text": [
      "average acc:0.9622222222222222\n",
      "variance of acc:0.0006962962962962956\n"
     ]
    }
   ],
   "source": [
    "acc = []\n",
    "for i in range(10):\n",
    "    train, test = randomly_draw(iris)\n",
    "    train_X,  train_y = train[:, :-1], train[:, -1]\n",
    "    test_X, test_y = test[:, :-1], test[:, -1]\n",
    "    \n",
    "    cov = np.cov(train_X, rowvar=False)\n",
    "    eigvalue, eigvertor= np.linalg.eig(cov)\n",
    "    \n",
    "    V = (eigvertor[:, :2]).dot(np.diag(eigvalue[:2])**0.5)\n",
    "    Vbar = np.linalg.inv(V.T.dot(V)).dot(V.T)\n",
    "    #display(V, Vbar)\n",
    "    #break\n",
    "    train_X = train_X.dot(Vbar.T)\n",
    "    test_X = test_X.dot(Vbar.T)\n",
    "    model = MyKNeighborsClassifier()\n",
    "    model.fit(train_X, train_y)\n",
    "    acc.append(model.score(test_X, test_y))\n",
    "print('average acc:{}'.format(np.mean(acc)))\n",
    "print('variance of acc:{}'.format(np.var(acc)))"
   ]
  },
  {
   "cell_type": "markdown",
   "metadata": {},
   "source": [
    "## 5\n",
    "Repeat problem 3 by using LDA as the reduction method. Remember to compute the parameters for each class in order to use LDA."
   ]
  },
  {
   "cell_type": "code",
   "execution_count": 12,
   "metadata": {
    "ExecuteTime": {
     "end_time": "2018-04-10T04:57:08.479201Z",
     "start_time": "2018-04-10T04:57:08.472349Z"
    }
   },
   "outputs": [],
   "source": [
    "def lda(data):\n",
    "    Sw = np.zeros((4, 4))\n",
    "    for i in range(3):\n",
    "        xinDi = data[data[:,-1] == i][:, :-1]\n",
    "        mi = xinDi.mean(axis=0)\n",
    "        Si = np.zeros((4, 4))\n",
    "        for row in xinDi:\n",
    "            row, mv = row.reshape(4,1), mi.reshape(4,1)\n",
    "            Si += (row-mv).dot((row-mv).T)\n",
    "        Sw += Si\n",
    "\n",
    "    Sb = np.zeros((4, 4))\n",
    "    m = data[:, :-1].mean(axis=0).reshape(4, 1)\n",
    "    for i in range(3):\n",
    "        xinDi = data[data[:,-1] == i][:, :-1]\n",
    "        mi = xinDi.mean(axis=0).reshape(4, 1)\n",
    "        n = xinDi.shape[0]\n",
    "        Sb += n*(mi-m).dot((mi-m).T)\n",
    "\n",
    "    #display(Sw, Sb)\n",
    "    lda_eigvalue, lda_eignvector = np.linalg.eig(\n",
    "                                    np.linalg.inv(Sw).dot(Sb))\n",
    "    #display(lda_eigvalue.real, lda_eignvector.real)\n",
    "    return lda_eigvalue, lda_eignvector"
   ]
  },
  {
   "cell_type": "code",
   "execution_count": 13,
   "metadata": {
    "ExecuteTime": {
     "end_time": "2018-04-10T04:57:08.491104Z",
     "start_time": "2018-04-10T04:57:08.481747Z"
    }
   },
   "outputs": [
    {
     "data": {
      "text/plain": [
       "array([ 3.22719578e+01,  2.77566864e-01, -6.73276390e-16, -6.73276390e-16])"
      ]
     },
     "metadata": {},
     "output_type": "display_data"
    },
    {
     "data": {
      "text/plain": [
       "array([[-0.20490976,  0.00898234,  0.27709585,  0.27709585],\n",
       "       [-0.38714331,  0.58899857, -0.386313  , -0.386313  ],\n",
       "       [ 0.54648218, -0.25428655, -0.438815  , -0.438815  ],\n",
       "       [ 0.71378517,  0.76703217,  0.66441477,  0.66441477]])"
      ]
     },
     "metadata": {},
     "output_type": "display_data"
    }
   ],
   "source": [
    "data = iris.as_matrix()\n",
    "lda_eigvalue, lda_eignvector = lda(data)\n",
    "X, y = data[:, :-1].dot(lda_eignvector[:, :2]), data[:, -1]\n",
    "display(lda_eigvalue.real, lda_eignvector.real)"
   ]
  },
  {
   "cell_type": "code",
   "execution_count": 14,
   "metadata": {
    "ExecuteTime": {
     "end_time": "2018-04-10T04:57:08.497061Z",
     "start_time": "2018-04-10T04:57:08.493416Z"
    }
   },
   "outputs": [],
   "source": [
    "#check Av = λv\n",
    "# for i in range(len(lda_eigvalue)):\n",
    "#     eigv = lda_eignvector[:, i].reshape(4,1)\n",
    "#     np.testing.assert_array_almost_equal(np.linalg.inv(Sw).dot(Sb).dot(eigv),\n",
    "#                                          lda_eigvalue[i] * eigv,\n",
    "#                                          decimal=6, err_msg='', verbose=True)"
   ]
  },
  {
   "cell_type": "code",
   "execution_count": 15,
   "metadata": {
    "ExecuteTime": {
     "end_time": "2018-04-10T04:57:09.042421Z",
     "start_time": "2018-04-10T04:57:08.499709Z"
    }
   },
   "outputs": [
    {
     "name": "stdout",
     "output_type": "stream",
     "text": [
      "average acc:0.9733333333333334\n",
      "variance of acc:0.00017777777777777708\n"
     ]
    }
   ],
   "source": [
    "acc = []\n",
    "for i in range(10):\n",
    "    train, test = randomly_draw(iris)\n",
    "    \n",
    "    lda_eigvalue, lda_eignvector = lda(train)\n",
    "    train_X, train_y = (train[:, :-1].dot(lda_eignvector[:, :2]), \n",
    "                        train[:, -1])\n",
    "    test_X, test_y = (test[:, :-1].dot(lda_eignvector[:, :2]), \n",
    "                      test[:, -1])\n",
    "    \n",
    "    model = MyKNeighborsClassifier()\n",
    "    model.fit(train_X, train_y)\n",
    "    acc.append(model.score(test_X, test_y))\n",
    "\n",
    "print('average acc:{}'.format(np.mean(acc)))\n",
    "print('variance of acc:{}'.format(np.var(acc)))"
   ]
  }
 ],
 "metadata": {
  "kernelspec": {
   "display_name": "Python 3",
   "language": "python",
   "name": "python3"
  },
  "language_info": {
   "codemirror_mode": {
    "name": "ipython",
    "version": 3
   },
   "file_extension": ".py",
   "mimetype": "text/x-python",
   "name": "python",
   "nbconvert_exporter": "python",
   "pygments_lexer": "ipython3",
   "version": "3.6.4"
  },
  "latex_envs": {
   "LaTeX_envs_menu_present": true,
   "autoclose": false,
   "autocomplete": true,
   "bibliofile": "biblio.bib",
   "cite_by": "apalike",
   "current_citInitial": 1,
   "eqLabelWithNumbers": true,
   "eqNumInitial": 1,
   "hotkeys": {
    "equation": "Ctrl-E",
    "itemize": "Ctrl-I"
   },
   "labels_anchors": false,
   "latex_user_defs": false,
   "report_style_numbering": false,
   "user_envs_cfg": false
  },
  "toc": {
   "nav_menu": {},
   "number_sections": false,
   "sideBar": true,
   "skip_h1_title": false,
   "title_cell": "Table of Contents",
   "title_sidebar": "Contents",
   "toc_cell": false,
   "toc_position": {
    "height": "calc(100% - 180px)",
    "left": "10px",
    "top": "150px",
    "width": "165px"
   },
   "toc_section_display": true,
   "toc_window_display": false
  },
  "varInspector": {
   "cols": {
    "lenName": 16,
    "lenType": 16,
    "lenVar": 40
   },
   "kernels_config": {
    "python": {
     "delete_cmd_postfix": "",
     "delete_cmd_prefix": "del ",
     "library": "var_list.py",
     "varRefreshCmd": "print(var_dic_list())"
    },
    "r": {
     "delete_cmd_postfix": ") ",
     "delete_cmd_prefix": "rm(",
     "library": "var_list.r",
     "varRefreshCmd": "cat(var_dic_list()) "
    }
   },
   "types_to_exclude": [
    "module",
    "function",
    "builtin_function_or_method",
    "instance",
    "_Feature"
   ],
   "window_display": false
  }
 },
 "nbformat": 4,
 "nbformat_minor": 2
}
