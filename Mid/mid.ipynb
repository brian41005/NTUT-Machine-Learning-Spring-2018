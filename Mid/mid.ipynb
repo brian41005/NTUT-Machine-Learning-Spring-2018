{
 "cells": [
  {
   "cell_type": "code",
   "execution_count": 127,
   "metadata": {
    "ExecuteTime": {
     "end_time": "2018-05-01T07:27:53.568662Z",
     "start_time": "2018-05-01T07:27:53.303125Z"
    }
   },
   "outputs": [],
   "source": [
    "from sklearn.datasets import load_iris\n",
    "from sklearn.metrics import accuracy_score\n",
    "from sklearn.model_selection import train_test_split\n",
    "from sklearn.decomposition import FastICA\n",
    "from scipy.stats import multivariate_normal, norm\n",
    "import numpy as np\n",
    "import operator\n",
    "import itertools\n",
    "import matplotlib.pyplot as plt"
   ]
  },
  {
   "cell_type": "code",
   "execution_count": 2,
   "metadata": {
    "ExecuteTime": {
     "end_time": "2018-05-01T04:23:36.338617Z",
     "start_time": "2018-05-01T04:23:36.321473Z"
    }
   },
   "outputs": [],
   "source": [
    "class NaiveBayesClassifier:\n",
    "    def __init__(self, verbose = False):\n",
    "        self._verbose = verbose\n",
    "    \n",
    "    def fit(self, X, y):\n",
    "        self._X = X\n",
    "        self._y = y\n",
    "        self._n = y.shape[0]\n",
    "        \n",
    "        self._priori_prob = {}\n",
    "        class_counts = np.unique(self._y, return_counts=True)\n",
    "        self._cat = class_counts[0]\n",
    "        \n",
    "        class_count_map = {class_counts[0][i]:class_counts[1][i] for i in range(class_counts[0].shape[0])}\n",
    "        if self._verbose:\n",
    "            print('priori:')\n",
    "        for cls, count in zip(class_counts[0], class_counts[1]):\n",
    "            self._priori_prob[cls] = count / self._n\n",
    "            if self._verbose:\n",
    "                print('    P({})={}'.format(cls, self._priori_prob[cls]))\n",
    "        \n",
    "        if self._verbose:\n",
    "            print('evidence:')\n",
    "        self._evidence_prob = [{} for col in range(self._X.shape[1])]\n",
    "        evidence_counts = [np.unique(self._X[:, col], return_counts=True) for col in range(self._X.shape[1])]\n",
    "        for col in range(self._X.shape[1]):\n",
    "            evidence_counts = np.unique(self._X[:, col], return_counts=True)\n",
    "            for x, count in zip(evidence_counts[0], evidence_counts[1]):\n",
    "                self._evidence_prob[col][x] = count / self._n\n",
    "                if self._verbose:\n",
    "                    print('    col:{}, p({})={}'.format(col ,x, self._evidence_prob[col][x]))\n",
    "        \n",
    "        if self._verbose:\n",
    "            print('class likelihood:')\n",
    "        self._class_likelihood_prob = [{} for col in range(self._X.shape[1])]\n",
    "        for col in range(self._X.shape[1]):\n",
    "            temp = [(self._X[i, col], self._y[i]) for i in range(self._n)]\n",
    "            class_likilihood_counts = np.unique(temp, axis = 0, return_counts=True)\n",
    "            for pair, count in zip(class_likilihood_counts[0], class_likilihood_counts[1]):\n",
    "                self._class_likelihood_prob[col][(pair[0], pair[1])] = count / class_count_map[pair[1]]\n",
    "                if self._verbose:\n",
    "                    print('    col:{}, p({}|{})={}'.format(col ,pair[0], pair[1], self._class_likelihood_prob[col][(pair[0], pair[1])]))\n",
    "        return self\n",
    "\n",
    "    def predict(self, x):\n",
    "        posterior_prob = np.zeros(self._cat.shape[0])\n",
    "        if self._verbose:\n",
    "            print('posterior:')\n",
    "        for i in range(self._cat.shape[0]):\n",
    "            class_likelihood = 1\n",
    "            evidence = 1\n",
    "            for col in range(x.shape[0]):\n",
    "                pair = (x[col], self._cat[i])\n",
    "                class_likelihood *= self._class_likelihood_prob[col][pair]\n",
    "                evidence *= self._evidence_prob[col][x[col]]\n",
    "            posterior_prob[i] = self._priori_prob[self._cat[i]] * class_likelihood / evidence\n",
    "            if self._verbose:\n",
    "                print('    P({}|{})={}'.format(self._cat[i], x, posterior_prob[i]))\n",
    "        max_prob_idx = np.argmax(posterior_prob)\n",
    "        if self._verbose:\n",
    "            print('predict: {}'.format(self._cat[max_prob_idx]))\n",
    "        return self._cat[max_prob_idx]"
   ]
  },
  {
   "cell_type": "code",
   "execution_count": 3,
   "metadata": {
    "ExecuteTime": {
     "end_time": "2018-05-01T04:23:48.703399Z",
     "start_time": "2018-05-01T04:23:48.682003Z"
    }
   },
   "outputs": [
    {
     "name": "stdout",
     "output_type": "stream",
     "text": [
      "priori:\n",
      "    P(+)=0.5833333333333334\n",
      "    P(-)=0.4166666666666667\n",
      "evidence:\n",
      "    col:0, p(B)=0.5\n",
      "    col:0, p(G)=0.25\n",
      "    col:0, p(R)=0.25\n",
      "    col:1, p(c)=0.3333333333333333\n",
      "    col:1, p(s)=0.6666666666666666\n",
      "class likelihood:\n",
      "    col:0, p(B|+)=0.42857142857142855\n",
      "    col:0, p(B|-)=0.6\n",
      "    col:0, p(G|+)=0.2857142857142857\n",
      "    col:0, p(G|-)=0.2\n",
      "    col:0, p(R|+)=0.2857142857142857\n",
      "    col:0, p(R|-)=0.2\n",
      "    col:1, p(c|+)=0.2857142857142857\n",
      "    col:1, p(c|-)=0.4\n",
      "    col:1, p(s|+)=0.7142857142857143\n",
      "    col:1, p(s|-)=0.6\n",
      "posterior:\n",
      "    P(+|['B' 's'])=0.5357142857142858\n",
      "    P(-|['B' 's'])=0.45\n",
      "predict: +\n"
     ]
    },
    {
     "data": {
      "text/plain": [
       "'+'"
      ]
     },
     "execution_count": 3,
     "metadata": {},
     "output_type": "execute_result"
    }
   ],
   "source": [
    "X = [['R', 's'], ['B', 'c'], ['G', 's'], ['B', 's'],['B', 's'],['B', 'c'],['R', 's'],['G', 'c'],['G', 's'],['B', 'c'],['B', 's'],['R', 's']]\n",
    "y = ['+', '+', '+', '-', '-', '+', '+','-','+','-','+','-']\n",
    "X = np.array(X)\n",
    "y = np.array(y)\n",
    "nbc = NaiveBayesClassifier(verbose=True)\n",
    "nbc.fit(X, y)\n",
    "nbc.predict(np.array(['B','s']))"
   ]
  },
  {
   "cell_type": "markdown",
   "metadata": {},
   "source": [
    "# 1"
   ]
  },
  {
   "cell_type": "code",
   "execution_count": 156,
   "metadata": {
    "ExecuteTime": {
     "end_time": "2018-05-01T07:36:07.844970Z",
     "start_time": "2018-05-01T07:36:07.826235Z"
    }
   },
   "outputs": [
    {
     "name": "stdout",
     "output_type": "stream",
     "text": [
      "0 0 [1. 0.] 0.0\n",
      "1 1 [0.96592583 0.25881905] 0.0\n",
      "2 2 [0.8660254 0.5      ] 0.0\n",
      "3 3 [0.70710678 0.70710678] 0.0\n",
      "4 4 [0.5       0.8660254] 0.0\n",
      "5 5 [0.25881905 0.96592583] 0.0\n",
      "6 6 [6.123234e-17 1.000000e+00] 0.0\n",
      "7 7 [-0.25881905  0.96592583] 0.0\n",
      "8 8 [-0.5        0.8660254] 0.0\n",
      "9 9 [-0.70710678  0.70710678] 0.0\n",
      "10 10 [-0.8660254  0.5      ] 0.0\n",
      "11 11 [-0.96592583  0.25881905] 0.0\n",
      "12 12 [-1.0000000e+00  1.2246468e-16] 0.0\n",
      "13 13 [-0.96592583 -0.25881905] 0.0\n",
      "14 14 [-0.8660254 -0.5      ] 0.0\n",
      "15 15 [-0.70710678 -0.70710678] 0.0\n",
      "16 16 [-0.5       -0.8660254] 0.0\n",
      "17 17 [-0.25881905 -0.96592583] 0.0\n",
      "18 18 [-1.8369702e-16 -1.0000000e+00] 0.0\n",
      "19 19 [ 0.25881905 -0.96592583] 0.0\n",
      "20 20 [ 0.5       -0.8660254] 0.0\n",
      "21 21 [ 0.70710678 -0.70710678] 0.0\n",
      "22 22 [ 0.8660254 -0.5      ] 0.0\n",
      "23 23 [ 0.96592583 -0.25881905] 0.0\n",
      "24 0 [2. 0.] 1.0\n",
      "25 1 [1.93185165 0.51763809] 1.0\n",
      "26 2 [1.73205081 1.        ] 1.0\n",
      "27 3 [1.41421356 1.41421356] 1.0\n",
      "28 4 [1.         1.73205081] 1.0\n",
      "29 5 [0.51763809 1.93185165] 1.0\n",
      "30 6 [1.2246468e-16 2.0000000e+00] 1.0\n",
      "31 7 [-0.51763809  1.93185165] 1.0\n",
      "32 8 [-1.          1.73205081] 1.0\n",
      "33 9 [-1.41421356  1.41421356] 1.0\n",
      "34 10 [-1.73205081  1.        ] 1.0\n",
      "35 11 [-1.93185165  0.51763809] 1.0\n",
      "36 12 [-2.0000000e+00  2.4492936e-16] 1.0\n",
      "37 13 [-1.93185165 -0.51763809] 1.0\n",
      "38 14 [-1.73205081 -1.        ] 1.0\n",
      "39 15 [-1.41421356 -1.41421356] 1.0\n",
      "40 16 [-1.         -1.73205081] 1.0\n",
      "41 17 [-0.51763809 -1.93185165] 1.0\n",
      "42 18 [-3.6739404e-16 -2.0000000e+00] 1.0\n",
      "43 19 [ 0.51763809 -1.93185165] 1.0\n",
      "44 20 [ 1.         -1.73205081] 1.0\n",
      "45 21 [ 1.41421356 -1.41421356] 1.0\n",
      "46 22 [ 1.73205081 -1.        ] 1.0\n",
      "47 23 [ 1.93185165 -0.51763809] 1.0\n"
     ]
    }
   ],
   "source": [
    "X_1 = [[1*np.cos((2*np.pi*k)/24), 1*np.sin((2*np.pi*k)/24), 0] for k in range(0, 24)]\n",
    "X_1 += [[2*np.cos((2*np.pi*k)/24), 2*np.sin((2*np.pi*k)/24), 1] for k in range(0, 24)]\n",
    "X_1 = np.array(X_1)\n",
    "X_1, y_1 = X_1[:, [0,1]], X_1[:, -1]\n",
    "for i, (x, y) in enumerate(zip(X_1, y_1)):\n",
    "    print(i, i%24, x, y)"
   ]
  },
  {
   "cell_type": "code",
   "execution_count": 150,
   "metadata": {
    "ExecuteTime": {
     "end_time": "2018-05-01T07:34:29.612196Z",
     "start_time": "2018-05-01T07:34:29.605339Z"
    }
   },
   "outputs": [],
   "source": [
    "class MyKNeighborsClassifier:\n",
    "    \n",
    "    def __init__(self, n_neighbors=3, **kwargs):\n",
    "        self._k = n_neighbors\n",
    "        self._X = self._y = None\n",
    "        self.set_params(**kwargs)\n",
    "            \n",
    "    def get_params(self, deep=True):\n",
    "        # suppose this estimator has parameters \"alpha\" and \"recursive\"\n",
    "        return self.__dict__\n",
    "\n",
    "    def set_params(self, **parameters):\n",
    "        for parameter, value in parameters.items():\n",
    "            setattr(self, parameter, value)\n",
    "        return self\n",
    "    \n",
    "    def fit(self, X, y):\n",
    "        self._X = X.copy()\n",
    "        self._y = y.copy()\n",
    "    \n",
    "    def _predict(self, x):\n",
    "        distances = np.apply_along_axis(lambda x1: np.linalg.norm(x-x1), \n",
    "                                        1, self._X)\n",
    "        \n",
    "        X_candidates = np.argsort(distances)[:self._k]\n",
    "        y_candidates = self._y[X_candidates]\n",
    "        print(X_candidates ,\n",
    "              self._X[X_candidates], \n",
    "              distances[X_candidates], \n",
    "              y_candidates)\n",
    "        return np.argmax(np.bincount(y_candidates.astype('int64')))\n",
    "    \n",
    "    def score(self, X, y_true):\n",
    "        return accuracy_score(y_true, self.predict(X))\n",
    "    \n",
    "    def predict(self, X):\n",
    "        return np.apply_along_axis(lambda x: self._predict(x), 1, X)"
   ]
  },
  {
   "cell_type": "code",
   "execution_count": 151,
   "metadata": {
    "ExecuteTime": {
     "end_time": "2018-05-01T07:34:31.349685Z",
     "start_time": "2018-05-01T07:34:31.345948Z"
    }
   },
   "outputs": [],
   "source": [
    "model_1 = MyKNeighborsClassifier()\n",
    "model_1.fit(X_1, y_1)"
   ]
  },
  {
   "cell_type": "code",
   "execution_count": 152,
   "metadata": {
    "ExecuteTime": {
     "end_time": "2018-05-01T07:34:37.344545Z",
     "start_time": "2018-05-01T07:34:37.336052Z"
    }
   },
   "outputs": [
    {
     "name": "stdout",
     "output_type": "stream",
     "text": [
      "[27 28 26] [[1.41421356 1.41421356]\n",
      " [1.         1.73205081]\n",
      " [1.73205081 1.        ]] [2.22044605e-16 5.22104769e-01 5.22104769e-01] [1. 1. 1.]\n"
     ]
    },
    {
     "data": {
      "text/plain": [
       "array([1])"
      ]
     },
     "execution_count": 152,
     "metadata": {},
     "output_type": "execute_result"
    }
   ],
   "source": [
    "model_1.predict(np.array([[np.sqrt(2), np.sqrt(2)]]).reshape(-1,2))"
   ]
  },
  {
   "cell_type": "code",
   "execution_count": 153,
   "metadata": {
    "ExecuteTime": {
     "end_time": "2018-05-01T07:34:54.548946Z",
     "start_time": "2018-05-01T07:34:54.353725Z"
    }
   },
   "outputs": [
    {
     "data": {
      "image/png": "[encoded data removed]",
      "text/plain": [
       "<Figure size 504x504 with 1 Axes>"
      ]
     },
     "metadata": {},
     "output_type": "display_data"
    }
   ],
   "source": [
    "fig = plt.figure(figsize=(7,7))\n",
    "plt.grid()\n",
    "plt.scatter(X_1[:,0], X_1[:,1], y)\n",
    "\n",
    "plt.show()"
   ]
  },
  {
   "cell_type": "markdown",
   "metadata": {},
   "source": [
    "# 2"
   ]
  },
  {
   "cell_type": "code",
   "execution_count": 157,
   "metadata": {
    "ExecuteTime": {
     "end_time": "2018-05-01T07:39:07.217934Z",
     "start_time": "2018-05-01T07:39:07.204812Z"
    }
   },
   "outputs": [],
   "source": [
    "class MyGaussianNB:\n",
    "    \n",
    "    def __init__(self, **kwargs):\n",
    "        self._class = {}\n",
    "        self.set_params(**kwargs)\n",
    "   \n",
    "    def get_params(self, deep=True):\n",
    "        return self.__dict__\n",
    "\n",
    "    def set_params(self, **parameters):\n",
    "        for parameter, value in parameters.items():\n",
    "            setattr(self, parameter, value)\n",
    "        return self\n",
    "    \n",
    "    def fit(self):      \n",
    "        self._class['0'] = {}\n",
    "        self._class['0']['mean'] = np.array([0,0])\n",
    "        self._class['0']['var'] = np.array([1,1])\n",
    "        self._class['0']['prior'] = (0.333)\n",
    "        \n",
    "        self._class['1'] = {}\n",
    "        self._class['1']['mean'] = np.array([1,1])\n",
    "        self._class['1']['var'] = np.array([2,2])\n",
    "        self._class['1']['prior'] = (0.333)\n",
    "        \n",
    "        self._class['2'] = {}\n",
    "        self._class['2']['mean'] = np.array([-1,-1])\n",
    "        self._class['2']['var'] = np.array([3,3])\n",
    "        self._class['2']['prior'] = (0.333)\n",
    "    \n",
    "    def _likelihood(self, v, feature_index, Ck):\n",
    "        var = self._class[Ck]['var'][feature_index]\n",
    "        mean = self._class[Ck]['mean'][feature_index]\n",
    "        exp = np.exp((-1 * (v - mean)**2) / (2 * var**2))\n",
    "        return (1 / (np.sqrt(2 * np.pi * var**2))) * exp\n",
    "        \n",
    "    def _predict(self, x):\n",
    "        class_prob = {Ck:None for Ck in self._class.keys()}\n",
    "        \n",
    "        for Ck, v in class_prob.items():\n",
    "            prior = self._class[Ck]['prior']\n",
    "            class_prob[Ck] = prior\n",
    "            for i, xn in enumerate(x):\n",
    "                print('P(x%d|C%s)=%f'%(i, Ck, self._likelihood(xn, i, Ck)))\n",
    "                class_prob[Ck] *= self._likelihood(xn, i, Ck)\n",
    "                \n",
    "        print(class_prob)\n",
    "        result = sorted(class_prob.items(), \n",
    "                        key=operator.itemgetter(1), \n",
    "                        reverse=True)\n",
    "        return result[0][0]\n",
    "    \n",
    "    def score(self, X, y_true):\n",
    "        return accuracy_score(y_true, self.predict(X))\n",
    "    \n",
    "    def predict(self, X):\n",
    "        return np.apply_along_axis(lambda x: self._predict(x), 1, X)\n",
    "model_2 = MyGaussianNB()\n",
    "model_2.fit()"
   ]
  },
  {
   "cell_type": "code",
   "execution_count": 158,
   "metadata": {
    "ExecuteTime": {
     "end_time": "2018-05-01T07:39:08.752246Z",
     "start_time": "2018-05-01T07:39:08.746859Z"
    },
    "scrolled": true
   },
   "outputs": [
    {
     "name": "stdout",
     "output_type": "stream",
     "text": [
      "P(x0|C0)=0.241971\n",
      "P(x1|C0)=0.241971\n",
      "P(x0|C1)=0.120985\n",
      "P(x1|C1)=0.199471\n",
      "P(x0|C2)=0.132981\n",
      "P(x1|C2)=0.106483\n",
      "{'0': 0.019497093897598284, '1': 0.00803631835645199, '2': 0.004715328684332738}\n"
     ]
    },
    {
     "data": {
      "text/plain": [
       "'0'"
      ]
     },
     "execution_count": 158,
     "metadata": {},
     "output_type": "execute_result"
    }
   ],
   "source": [
    "model_2._predict([-1, 1])"
   ]
  },
  {
   "cell_type": "code",
   "execution_count": 89,
   "metadata": {
    "ExecuteTime": {
     "end_time": "2018-05-01T06:11:48.498492Z",
     "start_time": "2018-05-01T06:11:48.493487Z"
    }
   },
   "outputs": [
    {
     "data": {
      "text/plain": [
       "0.0193101513"
      ]
     },
     "execution_count": 89,
     "metadata": {},
     "output_type": "execute_result"
    }
   ],
   "source": [
    "0.33*0.2419*0.2419"
   ]
  },
  {
   "cell_type": "markdown",
   "metadata": {},
   "source": [
    "Bayesian probability\n",
    "![](https://wikimedia.org/api/rest_v1/media/math/render/svg/52bd0ca5938da89d7f9bf388dc7edcbd546c118e)\n",
    "\n",
    "When dealing with continuous data, a typical assumption is that the continuous values associated with each class are distributed according to a Gaussian distribution.\n",
    "![](https://wikimedia.org/api/rest_v1/media/math/render/svg/951ea9195fc8021652c0e57d17c8819f78b0d452)\n",
    "\n",
    "The joint model can be expressed as\n",
    "![](https://wikimedia.org/api/rest_v1/media/math/render/svg/b1ade28a9aa4113ba19fa82b9f94be76bc37bce0)\n",
    "\n",
    "We difine classifier like this ![](https://wikimedia.org/api/rest_v1/media/math/render/svg/5ed52009429e5f3028302427a067822fdfc58059)"
   ]
  },
  {
   "cell_type": "markdown",
   "metadata": {},
   "source": [
    "# 3"
   ]
  },
  {
   "cell_type": "code",
   "execution_count": 90,
   "metadata": {
    "ExecuteTime": {
     "end_time": "2018-05-01T06:14:45.503576Z",
     "start_time": "2018-05-01T06:14:45.499879Z"
    }
   },
   "outputs": [],
   "source": [
    "def sort_eig(eigvals, eigvertor):\n",
    "    sort_mask = np.argsort(np.abs(eigvals))[::-1]\n",
    "    return eigvals[sort_mask], eigvertor[:, sort_mask]"
   ]
  },
  {
   "cell_type": "code",
   "execution_count": 164,
   "metadata": {
    "ExecuteTime": {
     "end_time": "2018-05-01T07:43:23.034562Z",
     "start_time": "2018-05-01T07:43:23.030605Z"
    }
   },
   "outputs": [],
   "source": [
    "eigvals = np.array([1, 0.5, 0.02, 0.01])\n",
    "eigvertor = np.array([[0.5, 0.5, 0.5, 0.5], \n",
    "                      [0.707, 0, 0, 0.707],\n",
    "                      [0, 0.9, 0.3, 0.316],\n",
    "                      [0.5, 0, 0.5, 0.707]]).T"
   ]
  },
  {
   "cell_type": "code",
   "execution_count": 165,
   "metadata": {
    "ExecuteTime": {
     "end_time": "2018-05-01T07:43:24.890822Z",
     "start_time": "2018-05-01T07:43:24.886515Z"
    }
   },
   "outputs": [],
   "source": [
    "eigvals, eigvertor = sort_eig(eigvals, eigvertor)"
   ]
  },
  {
   "cell_type": "code",
   "execution_count": 166,
   "metadata": {
    "ExecuteTime": {
     "end_time": "2018-05-01T07:43:26.421601Z",
     "start_time": "2018-05-01T07:43:26.416562Z"
    }
   },
   "outputs": [
    {
     "data": {
      "text/plain": [
       "array([0.65359477, 0.98039216, 0.99346405, 1.        ])"
      ]
     },
     "execution_count": 166,
     "metadata": {},
     "output_type": "execute_result"
    }
   ],
   "source": [
    "np.cumsum(eigvals)/ np.sum(eigvals)"
   ]
  },
  {
   "cell_type": "code",
   "execution_count": 167,
   "metadata": {
    "ExecuteTime": {
     "end_time": "2018-05-01T07:43:33.954250Z",
     "start_time": "2018-05-01T07:43:33.950168Z"
    }
   },
   "outputs": [
    {
     "data": {
      "text/plain": [
       "array([1.  , 0.5 , 0.02, 0.01])"
      ]
     },
     "execution_count": 167,
     "metadata": {},
     "output_type": "execute_result"
    }
   ],
   "source": [
    "eigvals"
   ]
  },
  {
   "cell_type": "code",
   "execution_count": 168,
   "metadata": {
    "ExecuteTime": {
     "end_time": "2018-05-01T07:43:40.452782Z",
     "start_time": "2018-05-01T07:43:40.447880Z"
    }
   },
   "outputs": [
    {
     "data": {
      "text/plain": [
       "array([[0.5  , 0.707, 0.   , 0.5  ],\n",
       "       [0.5  , 0.   , 0.9  , 0.   ],\n",
       "       [0.5  , 0.   , 0.3  , 0.5  ],\n",
       "       [0.5  , 0.707, 0.316, 0.707]])"
      ]
     },
     "execution_count": 168,
     "metadata": {},
     "output_type": "execute_result"
    }
   ],
   "source": [
    "eigvertor"
   ]
  },
  {
   "cell_type": "code",
   "execution_count": 169,
   "metadata": {
    "ExecuteTime": {
     "end_time": "2018-05-01T07:43:42.701607Z",
     "start_time": "2018-05-01T07:43:42.696932Z"
    }
   },
   "outputs": [
    {
     "data": {
      "text/plain": [
       "array([[1.5   , 1.0605]])"
      ]
     },
     "execution_count": 169,
     "metadata": {},
     "output_type": "execute_result"
    }
   ],
   "source": [
    "np.array([[1, 1, 0.5, 0.5]]).dot(eigvertor[:, :2])"
   ]
  },
  {
   "cell_type": "markdown",
   "metadata": {},
   "source": [
    "# 4"
   ]
  },
  {
   "cell_type": "code",
   "execution_count": 107,
   "metadata": {
    "ExecuteTime": {
     "end_time": "2018-05-01T06:29:18.061382Z",
     "start_time": "2018-05-01T06:29:18.057983Z"
    }
   },
   "outputs": [],
   "source": [
    "feature_names = ['outlook', 'temp', 'humidity', 'windy']"
   ]
  },
  {
   "cell_type": "code",
   "execution_count": 98,
   "metadata": {
    "ExecuteTime": {
     "end_time": "2018-05-01T06:26:48.941391Z",
     "start_time": "2018-05-01T06:26:48.937896Z"
    }
   },
   "outputs": [],
   "source": [
    "data_y = np.array([0, 0, 1, 1, 1, 0, 1, 0, 1, 1, 1, 1, 1, 0])"
   ]
  },
  {
   "cell_type": "code",
   "execution_count": 103,
   "metadata": {
    "ExecuteTime": {
     "end_time": "2018-05-01T06:28:32.004677Z",
     "start_time": "2018-05-01T06:28:31.991662Z"
    }
   },
   "outputs": [],
   "source": [
    "data_X = np.array([['sunny',    85, 85, 0],\n",
    "                   ['sunny',    80, 90, 1],\n",
    "                   ['overcast', 83, 78, 0],\n",
    "                   ['rain',     70, 96, 0],\n",
    "                   ['rain',     68, 80, 0],\n",
    "                   ['rain',     65, 70, 1],\n",
    "                   ['overcast', 64, 65, 1],\n",
    "                   ['sunny',    72, 95, 0],\n",
    "                   ['sunny',    69, 70, 0],\n",
    "                   ['rain',     75, 80, 0],\n",
    "                   ['sunny',    75, 70, 1],\n",
    "                   ['overcast', 72, 90, 1],\n",
    "                   ['overcast', 81, 75, 0],\n",
    "                   ['rain',     71, 80, 1]])\n",
    "temper_mask = data_X[:, 1].astype('int')\n",
    "data_X[:, 1][temper_mask > 70] = 'hot'\n",
    "data_X[:, 1][temper_mask <=70] = 'warn'"
   ]
  },
  {
   "cell_type": "code",
   "execution_count": 101,
   "metadata": {
    "ExecuteTime": {
     "end_time": "2018-05-01T06:27:18.636985Z",
     "start_time": "2018-05-01T06:27:18.633776Z"
    }
   },
   "outputs": [],
   "source": [
    "#data_X = data_X[:, 1]"
   ]
  },
  {
   "cell_type": "code",
   "execution_count": 104,
   "metadata": {
    "ExecuteTime": {
     "end_time": "2018-05-01T06:28:33.283397Z",
     "start_time": "2018-05-01T06:28:33.277463Z"
    }
   },
   "outputs": [
    {
     "data": {
      "text/plain": [
       "array([['sunny', 'hot', '85', '0'],\n",
       "       ['sunny', 'hot', '90', '1'],\n",
       "       ['overcast', 'hot', '78', '0'],\n",
       "       ['rain', 'warn', '96', '0'],\n",
       "       ['rain', 'warn', '80', '0'],\n",
       "       ['rain', 'warn', '70', '1'],\n",
       "       ['overcast', 'warn', '65', '1'],\n",
       "       ['sunny', 'hot', '95', '0'],\n",
       "       ['sunny', 'warn', '70', '0'],\n",
       "       ['rain', 'hot', '80', '0'],\n",
       "       ['sunny', 'hot', '70', '1'],\n",
       "       ['overcast', 'hot', '90', '1'],\n",
       "       ['overcast', 'hot', '75', '0'],\n",
       "       ['rain', 'hot', '80', '1']], dtype='<U8')"
      ]
     },
     "execution_count": 104,
     "metadata": {},
     "output_type": "execute_result"
    }
   ],
   "source": [
    "data_X"
   ]
  },
  {
   "cell_type": "code",
   "execution_count": 176,
   "metadata": {
    "ExecuteTime": {
     "end_time": "2018-05-01T07:52:18.755046Z",
     "start_time": "2018-05-01T07:52:18.750098Z"
    }
   },
   "outputs": [],
   "source": [
    "def entropy(S):\n",
    "    n = S.shape[0]\n",
    "    En = 0\n",
    "    for u, count in zip(*np.unique(S, return_counts=True)):\n",
    "        En += -1*(count/n)*np.log2(count/n)\n",
    "    return En\n",
    "#entropy(data_y)"
   ]
  },
  {
   "cell_type": "code",
   "execution_count": 177,
   "metadata": {
    "ExecuteTime": {
     "end_time": "2018-05-01T07:52:19.823449Z",
     "start_time": "2018-05-01T07:52:19.819040Z"
    }
   },
   "outputs": [],
   "source": [
    "def gain(S, T):\n",
    "    En = entropy(S)\n",
    "    #print('En %f'%(En))\n",
    "    n = S.shape[0]\n",
    "    temp = []\n",
    "    for u, count in zip(*np.unique(T, return_counts=True)):\n",
    "        temp.append((count/n)*entropy(S[T == u]))\n",
    "        En -= (count/n)*entropy(S[T == u])\n",
    "    print('temp %f'%(np.sum(temp)))\n",
    "    return En\n",
    "\n",
    "# for i, name in enumerate(feature_names):\n",
    "#     print('gain for \"%10s\": %f'%(name, gain(data_y, data_X[:, i])))"
   ]
  },
  {
   "cell_type": "code",
   "execution_count": 178,
   "metadata": {
    "ExecuteTime": {
     "end_time": "2018-05-01T07:52:21.661113Z",
     "start_time": "2018-05-01T07:52:21.657322Z"
    }
   },
   "outputs": [],
   "source": [
    "def split_info(S, T):\n",
    "    spt_info = 0\n",
    "    n = S.shape[0]\n",
    "    for u, count in zip(*np.unique(T, return_counts=True)):\n",
    "        spt_info += -1*(count/n)*np.log2(count/n)\n",
    "    return spt_info\n",
    "\n",
    "# for i, name in enumerate(feature_names):\n",
    "#     print('split_info for \"%10s\": %f'%(name, split_info(data_y, data_X[:, i]))) "
   ]
  },
  {
   "cell_type": "code",
   "execution_count": 179,
   "metadata": {
    "ExecuteTime": {
     "end_time": "2018-05-01T07:52:26.983720Z",
     "start_time": "2018-05-01T07:52:26.979679Z"
    }
   },
   "outputs": [],
   "source": [
    "def gain_ratio(S, T):\n",
    "    #print('gain %f'%(gain(S, T)))\n",
    "    #print('split_info %f'%(split_info(S, T)))\n",
    "    return gain(S, T)/split_info(S, T)\n",
    "\n",
    "# for i, name in enumerate(feature_names):\n",
    "#     print('gain_ratio for \"%10s\": %f'%(name, gain_ratio(data_y, data_X[:, i]))) "
   ]
  },
  {
   "cell_type": "code",
   "execution_count": 180,
   "metadata": {
    "ExecuteTime": {
     "end_time": "2018-05-01T07:52:28.215633Z",
     "start_time": "2018-05-01T07:52:28.206439Z"
    }
   },
   "outputs": [
    {
     "name": "stdout",
     "output_type": "stream",
     "text": [
      "temp 0.693536\n",
      "gain_ratio for \"   outlook\": 0.156428\n",
      "temp 0.894952\n",
      "gain_ratio for \"      temp\": 0.048213\n",
      "temp 0.536413\n",
      "gain_ratio for \"  humidity\": 0.135291\n",
      "temp 0.892159\n",
      "gain_ratio for \"     windy\": 0.048849\n"
     ]
    }
   ],
   "source": [
    "for i, name in enumerate(feature_names):\n",
    "    print('gain_ratio for \"%10s\": %f'%(name, gain_ratio(data_y, data_X[:, i]))) "
   ]
  },
  {
   "cell_type": "code",
   "execution_count": 181,
   "metadata": {
    "ExecuteTime": {
     "end_time": "2018-05-01T07:53:10.915351Z",
     "start_time": "2018-05-01T07:53:10.910111Z"
    }
   },
   "outputs": [
    {
     "data": {
      "text/plain": [
       "0.045333999999999985"
      ]
     },
     "execution_count": 181,
     "metadata": {},
     "output_type": "execute_result"
    }
   ],
   "source": [
    "0.940286-0.894952"
   ]
  },
  {
   "cell_type": "code",
   "execution_count": null,
   "metadata": {},
   "outputs": [],
   "source": []
  },
  {
   "cell_type": "code",
   "execution_count": null,
   "metadata": {},
   "outputs": [],
   "source": []
  },
  {
   "cell_type": "code",
   "execution_count": null,
   "metadata": {},
   "outputs": [],
   "source": []
  },
  {
   "cell_type": "code",
   "execution_count": null,
   "metadata": {},
   "outputs": [],
   "source": []
  },
  {
   "cell_type": "markdown",
   "metadata": {},
   "source": [
    "# 5"
   ]
  },
  {
   "cell_type": "code",
   "execution_count": 116,
   "metadata": {
    "ExecuteTime": {
     "end_time": "2018-05-01T06:58:13.297050Z",
     "start_time": "2018-05-01T06:58:13.291848Z"
    }
   },
   "outputs": [
    {
     "data": {
      "text/plain": [
       "0.5"
      ]
     },
     "execution_count": 116,
     "metadata": {},
     "output_type": "execute_result"
    }
   ],
   "source": [
    "0.5*0.5+0.5*0.5\n"
   ]
  },
  {
   "cell_type": "code",
   "execution_count": 117,
   "metadata": {
    "ExecuteTime": {
     "end_time": "2018-05-01T06:58:41.347672Z",
     "start_time": "2018-05-01T06:58:41.342621Z"
    }
   },
   "outputs": [
    {
     "data": {
      "text/plain": [
       "-0.020999999999999998"
      ]
     },
     "execution_count": 117,
     "metadata": {},
     "output_type": "execute_result"
    }
   ],
   "source": [
    "-0.2*0.7*0.3*0.5"
   ]
  },
  {
   "cell_type": "code",
   "execution_count": 119,
   "metadata": {
    "ExecuteTime": {
     "end_time": "2018-05-01T07:09:40.799435Z",
     "start_time": "2018-05-01T07:09:40.795154Z"
    }
   },
   "outputs": [],
   "source": [
    "t = 0.7*0.3*0.5*0.5"
   ]
  },
  {
   "cell_type": "code",
   "execution_count": 120,
   "metadata": {
    "ExecuteTime": {
     "end_time": "2018-05-01T07:09:49.337715Z",
     "start_time": "2018-05-01T07:09:49.332732Z"
    }
   },
   "outputs": [
    {
     "data": {
      "text/plain": [
       "-0.0105"
      ]
     },
     "execution_count": 120,
     "metadata": {},
     "output_type": "execute_result"
    }
   ],
   "source": [
    "t*(-0.2)"
   ]
  },
  {
   "cell_type": "code",
   "execution_count": 121,
   "metadata": {
    "ExecuteTime": {
     "end_time": "2018-05-01T07:16:05.408834Z",
     "start_time": "2018-05-01T07:16:05.403806Z"
    }
   },
   "outputs": [
    {
     "data": {
      "text/plain": [
       "0.018"
      ]
     },
     "execution_count": 121,
     "metadata": {},
     "output_type": "execute_result"
    }
   ],
   "source": [
    "0.3*0.4*0.6*0.5*0.5"
   ]
  },
  {
   "cell_type": "code",
   "execution_count": 122,
   "metadata": {
    "ExecuteTime": {
     "end_time": "2018-05-01T07:16:43.486438Z",
     "start_time": "2018-05-01T07:16:43.475783Z"
    }
   },
   "outputs": [
    {
     "data": {
      "text/plain": [
       "0.007499999999999998"
      ]
     },
     "execution_count": 122,
     "metadata": {},
     "output_type": "execute_result"
    }
   ],
   "source": [
    "0.018-0.0105"
   ]
  },
  {
   "cell_type": "code",
   "execution_count": 123,
   "metadata": {
    "ExecuteTime": {
     "end_time": "2018-05-01T07:19:54.412377Z",
     "start_time": "2018-05-01T07:19:54.407690Z"
    }
   },
   "outputs": [
    {
     "data": {
      "text/plain": [
       "-0.04999999999999999"
      ]
     },
     "execution_count": 123,
     "metadata": {},
     "output_type": "execute_result"
    }
   ],
   "source": [
    "0.5*0.5+0.5*-0.6"
   ]
  },
  {
   "cell_type": "code",
   "execution_count": 124,
   "metadata": {
    "ExecuteTime": {
     "end_time": "2018-05-01T07:20:41.339887Z",
     "start_time": "2018-05-01T07:20:41.335371Z"
    }
   },
   "outputs": [
    {
     "data": {
      "text/plain": [
       "0.0021"
      ]
     },
     "execution_count": 124,
     "metadata": {},
     "output_type": "execute_result"
    }
   ],
   "source": [
    "-0.2*0.7*0.3*-0.05"
   ]
  },
  {
   "cell_type": "code",
   "execution_count": 125,
   "metadata": {
    "ExecuteTime": {
     "end_time": "2018-05-01T07:24:40.102462Z",
     "start_time": "2018-05-01T07:24:40.097667Z"
    }
   },
   "outputs": [
    {
     "data": {
      "text/plain": [
       "-0.021599999999999998"
      ]
     },
     "execution_count": 125,
     "metadata": {},
     "output_type": "execute_result"
    }
   ],
   "source": [
    "0.3*0.4*0.6*0.5*-0.6"
   ]
  },
  {
   "cell_type": "code",
   "execution_count": 126,
   "metadata": {
    "ExecuteTime": {
     "end_time": "2018-05-01T07:25:02.763477Z",
     "start_time": "2018-05-01T07:25:02.759363Z"
    }
   },
   "outputs": [
    {
     "data": {
      "text/plain": [
       "-0.0321"
      ]
     },
     "execution_count": 126,
     "metadata": {},
     "output_type": "execute_result"
    }
   ],
   "source": [
    "(0.3*0.4*0.6*0.5*-0.6)-0.0105"
   ]
  },
  {
   "cell_type": "code",
   "execution_count": null,
   "metadata": {},
   "outputs": [],
   "source": []
  }
 ],
 "metadata": {
  "kernelspec": {
   "display_name": "Python 3",
   "language": "python",
   "name": "python3"
  },
  "language_info": {
   "codemirror_mode": {
    "name": "ipython",
    "version": 3
   },
   "file_extension": ".py",
   "mimetype": "text/x-python",
   "name": "python",
   "nbconvert_exporter": "python",
   "pygments_lexer": "ipython3",
   "version": "3.6.5"
  },
  "latex_envs": {
   "LaTeX_envs_menu_present": true,
   "autoclose": false,
   "autocomplete": true,
   "bibliofile": "biblio.bib",
   "cite_by": "apalike",
   "current_citInitial": 1,
   "eqLabelWithNumbers": true,
   "eqNumInitial": 1,
   "hotkeys": {
    "equation": "Ctrl-E",
    "itemize": "Ctrl-I"
   },
   "labels_anchors": false,
   "latex_user_defs": false,
   "report_style_numbering": false,
   "user_envs_cfg": false
  },
  "toc": {
   "nav_menu": {},
   "number_sections": false,
   "sideBar": true,
   "skip_h1_title": false,
   "title_cell": "Table of Contents",
   "title_sidebar": "Contents",
   "toc_cell": false,
   "toc_position": {},
   "toc_section_display": true,
   "toc_window_display": false
  },
  "varInspector": {
   "cols": {
    "lenName": 16,
    "lenType": 16,
    "lenVar": 40
   },
   "kernels_config": {
    "python": {
     "delete_cmd_postfix": "",
     "delete_cmd_prefix": "del ",
     "library": "var_list.py",
     "varRefreshCmd": "print(var_dic_list())"
    },
    "r": {
     "delete_cmd_postfix": ") ",
     "delete_cmd_prefix": "rm(",
     "library": "var_list.r",
     "varRefreshCmd": "cat(var_dic_list()) "
    }
   },
   "types_to_exclude": [
    "module",
    "function",
    "builtin_function_or_method",
    "instance",
    "_Feature"
   ],
   "window_display": false
  }
 },
 "nbformat": 4,
 "nbformat_minor": 2
}
