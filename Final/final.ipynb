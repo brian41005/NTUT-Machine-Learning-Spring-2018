{
 "cells": [
  {
   "cell_type": "code",
   "execution_count": 1,
   "metadata": {
    "ExecuteTime": {
     "end_time": "2018-06-26T05:16:08.157775Z",
     "start_time": "2018-06-26T05:16:08.014714Z"
    }
   },
   "outputs": [],
   "source": [
    "import numpy as np"
   ]
  },
  {
   "cell_type": "markdown",
   "metadata": {},
   "source": [
    "# 1"
   ]
  },
  {
   "cell_type": "code",
   "execution_count": 20,
   "metadata": {
    "ExecuteTime": {
     "end_time": "2018-06-26T05:21:28.649706Z",
     "start_time": "2018-06-26T05:21:28.642635Z"
    }
   },
   "outputs": [],
   "source": [
    "k = np.array([ [[0, 0],  [1, 1],  [0, 0]], \n",
    "               [[-2, 1], [0, -4], [2, 1]], \n",
    "               [[0, 0],  [1, 1],  [0, 0]]])\n",
    "\n",
    "p = np.array([[[6, 3], [0, 1], [-4, -4], [0, 0], [1, -1]], \n",
    "              [[4, 3], [4, 0], [0, 3], [2, 4], [1, -1]], \n",
    "              [[3, 3], [-7, 7], [1, -2], [4, -2], [2, 2]], \n",
    "              [[-2, -5], [2, -2], [1, 2], [-4, 0], [2, -2]], \n",
    "              [[5, 2], [1, 1], [2, -1], [4, 1], [-1, 2]]])"
   ]
  },
  {
   "cell_type": "code",
   "execution_count": 21,
   "metadata": {
    "ExecuteTime": {
     "end_time": "2018-06-26T05:21:29.942858Z",
     "start_time": "2018-06-26T05:21:29.938311Z"
    }
   },
   "outputs": [],
   "source": [
    "nf = 2  # number of filters\n",
    "rf = 3  # filter size\n",
    "s = 2"
   ]
  },
  {
   "cell_type": "code",
   "execution_count": 41,
   "metadata": {
    "ExecuteTime": {
     "end_time": "2018-06-26T07:37:28.939934Z",
     "start_time": "2018-06-26T07:37:28.936530Z"
    }
   },
   "outputs": [],
   "source": [
    "out = np.zeros((2, 2))"
   ]
  },
  {
   "cell_type": "code",
   "execution_count": 42,
   "metadata": {
    "ExecuteTime": {
     "end_time": "2018-06-26T07:37:32.693909Z",
     "start_time": "2018-06-26T07:37:32.689312Z"
    }
   },
   "outputs": [],
   "source": [
    "for z in range(nf):\n",
    "    \n",
    "    h_range = int((p.shape[1] - rf) / s) + 1  # (W - F + 2P) / S\n",
    "    for _h in range(h_range):\n",
    "        w_range = int((p.shape[0] - rf) / s) + 1  # (W - F + 2P) / S\n",
    "        for _w in range(w_range):\n",
    "            # print(_h, _w)\n",
    "            # print(np.sum((p[_h:_h+rf, _w:_w+rf, :]*k[:, :, :])))\n",
    "            out[_h:, _w] = np.maximum((np.sum((p[_h:_h+rf, _w:_w+rf, :]*k[:, :, :]))), 0)"
   ]
  },
  {
   "cell_type": "code",
   "execution_count": 43,
   "metadata": {
    "ExecuteTime": {
     "end_time": "2018-06-26T07:37:34.277325Z",
     "start_time": "2018-06-26T07:37:34.271853Z"
    }
   },
   "outputs": [
    {
     "data": {
      "text/plain": [
       "array([[ 0.,  0.],\n",
       "       [ 0., 41.]])"
      ]
     },
     "execution_count": 43,
     "metadata": {},
     "output_type": "execute_result"
    }
   ],
   "source": [
    "out"
   ]
  },
  {
   "cell_type": "markdown",
   "metadata": {},
   "source": [
    "# 2"
   ]
  },
  {
   "cell_type": "code",
   "execution_count": 25,
   "metadata": {
    "ExecuteTime": {
     "end_time": "2018-06-26T05:41:35.831241Z",
     "start_time": "2018-06-26T05:41:35.828207Z"
    }
   },
   "outputs": [],
   "source": [
    "from cvxopt import matrix, solvers"
   ]
  },
  {
   "cell_type": "code",
   "execution_count": 63,
   "metadata": {
    "ExecuteTime": {
     "end_time": "2018-06-26T07:59:14.653147Z",
     "start_time": "2018-06-26T07:59:14.649006Z"
    }
   },
   "outputs": [],
   "source": [
    "P = matrix([[2., 0, 4., 0.], [0., 2., 0., 4.], [4., 0., 8., 0.], [0., 4., 0., 8.]])\n",
    "q = matrix([-1., -1., -1., -1.])\n",
    "sol = solvers.qp(P, q)"
   ]
  },
  {
   "cell_type": "code",
   "execution_count": 65,
   "metadata": {
    "ExecuteTime": {
     "end_time": "2018-06-26T07:59:21.798746Z",
     "start_time": "2018-06-26T07:59:21.794291Z"
    }
   },
   "outputs": [
    {
     "name": "stdout",
     "output_type": "stream",
     "text": [
      "[ 1.13e+15]\n",
      "[ 1.13e+15]\n",
      "[-5.63e+14]\n",
      "[-5.63e+14]\n",
      "\n"
     ]
    }
   ],
   "source": [
    "print(sol['x'])"
   ]
  },
  {
   "cell_type": "code",
   "execution_count": 69,
   "metadata": {
    "ExecuteTime": {
     "end_time": "2018-06-26T08:00:21.588037Z",
     "start_time": "2018-06-26T08:00:21.584649Z"
    }
   },
   "outputs": [],
   "source": [
    "a = np.array([ 1.13e+15,1.13e+15,-5.63e+14,-5.63e+14])*np.array([1,-1,1,-1])"
   ]
  },
  {
   "cell_type": "code",
   "execution_count": 70,
   "metadata": {
    "ExecuteTime": {
     "end_time": "2018-06-26T08:00:22.788553Z",
     "start_time": "2018-06-26T08:00:22.784183Z"
    }
   },
   "outputs": [],
   "source": [
    "X = np.array([[1, 1], [-1, 1], [2, 2], [-2, 2]])"
   ]
  },
  {
   "cell_type": "code",
   "execution_count": 72,
   "metadata": {
    "ExecuteTime": {
     "end_time": "2018-06-26T08:00:26.994057Z",
     "start_time": "2018-06-26T08:00:26.990322Z"
    }
   },
   "outputs": [],
   "source": [
    "W = a[0]*X[0] + a[1]*X[1]+ a[2]*X[2] + a[3]*X[3]"
   ]
  },
  {
   "cell_type": "code",
   "execution_count": 73,
   "metadata": {
    "ExecuteTime": {
     "end_time": "2018-06-26T08:00:33.301012Z",
     "start_time": "2018-06-26T08:00:33.296082Z"
    }
   },
   "outputs": [
    {
     "data": {
      "text/plain": [
       "array([[ 8.0e+12,  0.0e+00],\n",
       "       [-8.0e+12,  0.0e+00],\n",
       "       [ 1.6e+13,  0.0e+00],\n",
       "       [-1.6e+13,  0.0e+00]])"
      ]
     },
     "execution_count": 73,
     "metadata": {},
     "output_type": "execute_result"
    }
   ],
   "source": [
    "W.T*X"
   ]
  },
  {
   "cell_type": "markdown",
   "metadata": {},
   "source": [
    "# 3"
   ]
  },
  {
   "cell_type": "code",
   "execution_count": 34,
   "metadata": {
    "ExecuteTime": {
     "end_time": "2018-06-26T06:00:20.570895Z",
     "start_time": "2018-06-26T06:00:20.542764Z"
    }
   },
   "outputs": [
    {
     "name": "stdout",
     "output_type": "stream",
     "text": [
      "π: [1.0, 0.0, 0.0]\n",
      "A: [[0.0, 0.0, 1.0], [0.0, 0.0, 1.0], [0.0, 1.0, 0.0]]\n",
      "B: [[1.0, 0.0], [0.0, 1.0], [1.0, 0.0]]\n"
     ]
    }
   ],
   "source": [
    "N = 3\n",
    "O = [0, 0, 1, 0, 1]\n",
    "A = [[1/3, 1/3, 1/3], \n",
    "     [1/3, 1/3, 1/3], \n",
    "     [1/3, 1/3, 1/3]]\n",
    "pi = [1/3, 1/3, 1/3]\n",
    "B = [[4/6, 2/6], [2/6, 4/6], [3/6, 3/6]]\n",
    "symbols = [0, 1]\n",
    "\n",
    "def forward(N, O, pi, A, B):\n",
    "    fwd = [{}]     \n",
    "    for i in range(N):\n",
    "        fwd[0][i] = pi[i] * B[i][O[0]]\n",
    "    for t in range(1, len(O)):\n",
    "        fwd.append({})     \n",
    "        for j in range(N):\n",
    "            fwd[t][j] = sum((fwd[t-1][i] *\n",
    "                             A[i][j] * \n",
    "                             B[j][O[t]]) for i in range(N))\n",
    "            \n",
    "    prob = sum((fwd[len(O) - 1][i]) for i in range(N))\n",
    "    return prob, fwd\n",
    "\n",
    "def backward(N, O, A, B):\n",
    "    T = len(O)\n",
    "    bwk = [{} for t in range(T)]\n",
    "    for i in range(N):\n",
    "        bwk[T-1][i] = 1 \n",
    "    for t in reversed(range(T-1)):\n",
    "        for i in range(N):\n",
    "            bwk[t][i] = sum((bwk[t+1][j] * A[i][j] * \n",
    "                             B[j][O[t+1]]) for j in range(N))\n",
    "    prob = sum((pi[i]* B[i][O[0]] * \n",
    "                bwk[0][i]) for i in range(N))\n",
    "    return prob, bwk\n",
    "\n",
    "def train(N, O, pi, A, B, symbols):\n",
    "    T = len(O)\n",
    "    gamma = [{} for t in range(T)]\n",
    "    zi = [{} for t in range(T - 1)] \n",
    "    p_o, fwd = forward(N, O, pi, A, B)\n",
    "    _, bwk = backward(N, O, A, B)\n",
    "    \n",
    "    for t in range(T):\n",
    "        for i in range(N):\n",
    "            gamma[t][i] = (fwd[t][i] * bwk[t][i]) / p_o\n",
    "            if t == 0:\n",
    "                pi[i] = gamma[t][i]\n",
    "            if t == T - 1:\n",
    "                continue\n",
    "            zi[t][i] = {}\n",
    "            for j in range(N):\n",
    "                zi[t][i][j] = (fwd[t][i] * A[i][j] * \n",
    "                B[j][O[t + 1]] * bwk[t + 1][j] / p_o)\n",
    "    \n",
    "\n",
    "    for i in range(N):\n",
    "        for j in range(N):\n",
    "            val = sum([zi[t][i][j] for t in range(T - 1)]) \n",
    "            val /= sum([gamma[t][i] for t in range(T - 1)])\n",
    "            A[i][j] = val\n",
    "            \n",
    "    for i in range(N):\n",
    "        for k in symbols:\n",
    "            val = 0.0\n",
    "            for t in range(T):\n",
    "                if O[t] == k:\n",
    "                    val += gamma[t][i]                 \n",
    "            val /= sum([gamma[t][i] for t in range(T)])\n",
    "            B[i][k] = val\n",
    "    return pi, A, B\n",
    "\n",
    "for iter_ in range(100):\n",
    "    pi, A, B = train(N, O, pi, A, B, symbols)\n",
    "    \n",
    "print('π:', pi)\n",
    "print('A:', A)\n",
    "print('B:', B)"
   ]
  },
  {
   "cell_type": "code",
   "execution_count": null,
   "metadata": {},
   "outputs": [],
   "source": []
  }
 ],
 "metadata": {
  "kernelspec": {
   "display_name": "Python 3",
   "language": "python",
   "name": "python3"
  },
  "language_info": {
   "codemirror_mode": {
    "name": "ipython",
    "version": 3
   },
   "file_extension": ".py",
   "mimetype": "text/x-python",
   "name": "python",
   "nbconvert_exporter": "python",
   "pygments_lexer": "ipython3",
   "version": "3.6.5"
  },
  "latex_envs": {
   "LaTeX_envs_menu_present": true,
   "autoclose": false,
   "autocomplete": true,
   "bibliofile": "biblio.bib",
   "cite_by": "apalike",
   "current_citInitial": 1,
   "eqLabelWithNumbers": true,
   "eqNumInitial": 1,
   "hotkeys": {
    "equation": "Ctrl-E",
    "itemize": "Ctrl-I"
   },
   "labels_anchors": false,
   "latex_user_defs": false,
   "report_style_numbering": false,
   "user_envs_cfg": false
  },
  "toc": {
   "nav_menu": {},
   "number_sections": false,
   "sideBar": true,
   "skip_h1_title": false,
   "title_cell": "Table of Contents",
   "title_sidebar": "Contents",
   "toc_cell": false,
   "toc_position": {},
   "toc_section_display": true,
   "toc_window_display": false
  },
  "varInspector": {
   "cols": {
    "lenName": 16,
    "lenType": 16,
    "lenVar": 40
   },
   "kernels_config": {
    "python": {
     "delete_cmd_postfix": "",
     "delete_cmd_prefix": "del ",
     "library": "var_list.py",
     "varRefreshCmd": "print(var_dic_list())"
    },
    "r": {
     "delete_cmd_postfix": ") ",
     "delete_cmd_prefix": "rm(",
     "library": "var_list.r",
     "varRefreshCmd": "cat(var_dic_list()) "
    }
   },
   "types_to_exclude": [
    "module",
    "function",
    "builtin_function_or_method",
    "instance",
    "_Feature"
   ],
   "window_display": false
  }
 },
 "nbformat": 4,
 "nbformat_minor": 2
}
